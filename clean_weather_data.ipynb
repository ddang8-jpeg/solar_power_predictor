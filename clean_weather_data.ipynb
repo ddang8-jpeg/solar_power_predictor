{
 "cells": [
  {
   "cell_type": "code",
   "execution_count": 20,
   "metadata": {},
   "outputs": [],
   "source": [
    "import csv\n",
    "from calendar import monthrange"
   ]
  },
  {
   "cell_type": "code",
   "execution_count": 21,
   "metadata": {},
   "outputs": [],
   "source": [
    "input_file = 'data/weather-2016/IAD-weather-2016'\n",
    "output_file = 'data/weather-2016/IAD-weather-2016-cleaned'\n",
    "cleaned_data = []"
   ]
  },
  {
   "cell_type": "code",
   "execution_count": 22,
   "metadata": {},
   "outputs": [],
   "source": [
    "# Dictionary to map month names to month numbers\n",
    "months = {\n",
    "    \"Jan\": 1, \"Feb\": 2, \"Mar\": 3, \"Apr\": 4, \"May\": 5, \"Jun\": 6,\n",
    "    \"Jul\": 7, \"Aug\": 8, \"Sep\": 9, \"Oct\": 10, \"Nov\": 11, \"Dec\": 12\n",
    "}\n",
    "\n",
    "# Initialize lists to store each column's data\n",
    "month = []\n",
    "days = []\n",
    "temperature_max = []\n",
    "temperature_avg = []\n",
    "temperature_min = []\n",
    "dew_point_max = []\n",
    "dew_point_avg = []\n",
    "dew_point_min = []\n",
    "humidity_max = []\n",
    "humidity_avg = []\n",
    "humidity_min = []\n",
    "wind_speed_max = []\n",
    "wind_speed_avg = []\n",
    "wind_speed_min = []\n",
    "pressure_max = []\n",
    "pressure_avg = []\n",
    "pressure_min = []\n",
    "precipitation = []\n",
    "\n",
    "# Flags to track which section we're in\n",
    "current_section = None\n",
    "current_month = None\n",
    "days_in_month = 31  # Default to 31 days, will change based on month\n",
    "current_section_n = -1 # Default value set when current section is month\n",
    "sections = {\n",
    "    \"Temperature (C)\": (temperature_max, temperature_avg, temperature_min),\n",
    "    \"Dew Point (C)\": (dew_point_max, dew_point_avg, dew_point_min),\n",
    "    \"Humidity (%)\": (humidity_max, humidity_avg, humidity_min),\n",
    "    \"Wind Speed (km/h)\": (wind_speed_max, wind_speed_avg, wind_speed_min),\n",
    "    \"Pressure (hPa)\": (pressure_max, pressure_avg, pressure_min),\n",
    "    \"Precipitation (mm)\": precipitation\n",
    "}\n",
    "sections_n = []\n",
    "for i, n in enumerate(sections):\n",
    "    sections_n.append([i, n])"
   ]
  },
  {
   "cell_type": "code",
   "execution_count": 23,
   "metadata": {},
   "outputs": [
    {
     "data": {
      "text/plain": [
       "[[0, 'Temperature (C)'],\n",
       " [1, 'Dew Point (C)'],\n",
       " [2, 'Humidity (%)'],\n",
       " [3, 'Wind Speed (km/h)'],\n",
       " [4, 'Pressure (hPa)'],\n",
       " [5, 'Precipitation (mm)']]"
      ]
     },
     "execution_count": 23,
     "metadata": {},
     "output_type": "execute_result"
    }
   ],
   "source": [
    "sections_n"
   ]
  },
  {
   "cell_type": "code",
   "execution_count": 24,
   "metadata": {},
   "outputs": [],
   "source": [
    "# Function to get the number of days in a month\n",
    "def get_days_in_month(month_name, year):\n",
    "    month_num = months[month_name]\n",
    "    return monthrange(year, month_num)[1]  # Returns the number of days in the month\n",
    "\n",
    "# Read the input file and parse the data\n",
    "with open(input_file, 'r') as infile:\n",
    "    for line in infile:\n",
    "        line = line.strip()\n",
    "\n",
    "        # Detect the month name (e.g., Jan, Feb, etc.)\n",
    "        if line in months:\n",
    "            current_month = line\n",
    "            # Set the number of days based on the month and a fixed year (e.g., 2024)\n",
    "            days_in_month = get_days_in_month(current_month, 2016)\n",
    "            month += [f'{months[current_month]}' for x in range(1, days_in_month + 1)]\n",
    "            days += [f'{day}' for day in range(1, days_in_month + 1)]\n",
    "            # Set the current section to an empty string to skip day rows.\n",
    "            current_section = ''\n",
    "            continue\n",
    "        \n",
    "        # Detect \"Max Avg Min\" line\n",
    "        if line == \"Max\\tAvg\\tMin\" or line == \"Max Avg Min\":\n",
    "            current_section_n += 1\n",
    "            current_section = sections_n[current_section_n][1]\n",
    "            continue\n",
    "\n",
    "        if line == \"Total\":\n",
    "            current_section = 'Precipitation (mm)'\n",
    "            current_section_n = -1\n",
    "            continue\n",
    "\n",
    "        # Add data to the appropriate section\n",
    "        if current_section:\n",
    "            data = line.split()\n",
    "            if current_section == \"Precipitation (mm)\":\n",
    "                # Precipitation has only one value per line\n",
    "                precipitation.append(data[0])\n",
    "            else:\n",
    "                # Max, Avg, Min sections\n",
    "                sections[current_section][0].append(data[0])\n",
    "                sections[current_section][1].append(data[1])\n",
    "                sections[current_section][2].append(data[2])"
   ]
  },
  {
   "cell_type": "code",
   "execution_count": 25,
   "metadata": {},
   "outputs": [],
   "source": [
    "# Write data to CSV\n",
    "with open(output_file, 'w', newline='') as csvfile:\n",
    "    csvwriter = csv.writer(csvfile)\n",
    "\n",
    "    # Write header\n",
    "    csvwriter.writerow([\n",
    "        \"Month\", \"Day\", \"Temperature Max (C)\", \"Temperature Avg (C)\", \"Temperature Min (C)\",\n",
    "        \"Dew Point Max (C)\", \"Dew Point Avg (C)\", \"Dew Point Min (C)\",\n",
    "        \"Humidity Max (%)\", \"Humidity Avg (%)\", \"Humidity Min (%)\",\n",
    "        \"Wind Speed Max (km/h)\", \"Wind Speed Avg (km/h)\", \"Wind Speed Min (km/h)\",\n",
    "        \"Pressure Max (hPa)\", \"Pressure Avg (hPa)\", \"Pressure Min (hPa)\",\n",
    "        \"Precipitation (mm)\"\n",
    "    ])\n",
    "    # Write data rows\n",
    "    for i in range(len(month)):\n",
    "        csvwriter.writerow([\n",
    "            month[i],\n",
    "            days[i],\n",
    "            temperature_max[i], temperature_avg[i], temperature_min[i],\n",
    "            dew_point_max[i], dew_point_avg[i], dew_point_min[i],\n",
    "            humidity_max[i], humidity_avg[i], humidity_min[i],\n",
    "            wind_speed_max[i], wind_speed_avg[i], wind_speed_min[i],\n",
    "            pressure_max[i], pressure_avg[i], pressure_min[i],\n",
    "            precipitation[i] if i < len(precipitation) else ''  # Handle missing precipitation data\n",
    "        ])"
   ]
  }
 ],
 "metadata": {
  "kernelspec": {
   "display_name": ".venv",
   "language": "python",
   "name": "python3"
  },
  "language_info": {
   "codemirror_mode": {
    "name": "ipython",
    "version": 3
   },
   "file_extension": ".py",
   "mimetype": "text/x-python",
   "name": "python",
   "nbconvert_exporter": "python",
   "pygments_lexer": "ipython3",
   "version": "3.12.4"
  }
 },
 "nbformat": 4,
 "nbformat_minor": 2
}
