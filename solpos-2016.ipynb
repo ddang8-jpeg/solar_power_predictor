{
 "cells": [
  {
   "cell_type": "markdown",
   "metadata": {},
   "source": [
    "# Solpos-2016\n",
    "Computes the solar position at the location of the roof photovoltaic generator at 39.135554, -77.215578 from 1/1/2016 - 12/31/2016 with a 1-minute interval. The resulting output will be saved as data/solpos-etr-2016-39.135554_-77.215578.csv"
   ]
  },
  {
   "cell_type": "code",
   "execution_count": 5,
   "metadata": {},
   "outputs": [],
   "source": [
    "from solpos import solpos\n",
    "import datetime\n",
    "import pandas as pd"
   ]
  },
  {
   "cell_type": "markdown",
   "metadata": {},
   "source": [
    "The start date, end date, time delta for the interval, location, and timezone are defined."
   ]
  },
  {
   "cell_type": "code",
   "execution_count": null,
   "metadata": {},
   "outputs": [],
   "source": [
    "startdate = datetime.datetime(2016, 1, 1, 0, 0)\n",
    "enddate = datetime.datetime(2016, 12, 31, 23, 59)\n",
    "delta = datetime.timedelta(minutes=1)\n",
    "\n",
    "lat = 39.135554\n",
    "long = -77.215578\n",
    "timezone = -5"
   ]
  },
  {
   "cell_type": "markdown",
   "metadata": {},
   "source": [
    "Solpos is ran using the previously defined dates and interval. The results for each run is saved into a list."
   ]
  },
  {
   "cell_type": "code",
   "execution_count": 3,
   "metadata": {},
   "outputs": [],
   "source": [
    "results = []\n",
    "\n",
    "while startdate <= enddate:\n",
    "    results.append(solpos(\n",
    "    year=startdate.year,\n",
    "    month=startdate.month,\n",
    "    day=startdate.day,\n",
    "    hour=startdate.hour,\n",
    "    minute=startdate.minute,\n",
    "    second=startdate.second,\n",
    "    timezone=-timezone,\n",
    "    latitude=lat,\n",
    "    longitude=long,\n",
    "))\n",
    "    startdate += delta"
   ]
  },
  {
   "cell_type": "markdown",
   "metadata": {},
   "source": [
    "The results are interperted as a dictionary and converted into a dataframe. Only the relavent columns Date/time, and ert (Extraterrestrial global horizontal solar irradiance) are extracted before the dataframe is saved as a csv."
   ]
  },
  {
   "cell_type": "code",
   "execution_count": 11,
   "metadata": {},
   "outputs": [],
   "source": [
    "data = [result._asdict() for result in results]\n",
    "df = pd.DataFrame(data)\n",
    "\n",
    "df = df[['year', 'month', 'day', 'minute', 'etr']]\n",
    "\n",
    "with open('./data/solpos-2016-39.135554_-77.215578.csv', 'w', newline='') as file:\n",
    "    df.to_csv(file)"
   ]
  }
 ],
 "metadata": {
  "kernelspec": {
   "display_name": ".venv",
   "language": "python",
   "name": "python3"
  },
  "language_info": {
   "codemirror_mode": {
    "name": "ipython",
    "version": 3
   },
   "file_extension": ".py",
   "mimetype": "text/x-python",
   "name": "python",
   "nbconvert_exporter": "python",
   "pygments_lexer": "ipython3",
   "version": "3.12.4"
  }
 },
 "nbformat": 4,
 "nbformat_minor": 2
}
