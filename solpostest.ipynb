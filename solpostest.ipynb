{
 "cells": [
  {
   "cell_type": "markdown",
   "metadata": {},
   "source": [
    "# Solpostest\n",
    "\n",
    "Test file for the solpos package obtained from: https://github.com/NREL/SolarPILOT/tree/21a1466398ec22db24a5a838e5133da58e347b83"
   ]
  },
  {
   "cell_type": "code",
   "execution_count": 2,
   "metadata": {},
   "outputs": [
    {
     "name": "stdout",
     "output_type": "stream",
     "text": [
      "13.568160057067871\n",
      "-12.900684356689453\n",
      "1.093388319015503\n"
     ]
    }
   ],
   "source": [
    "from solpos import solpos\n",
    "\n",
    "result = solpos(\n",
    "    year=2022,\n",
    "    month=10,\n",
    "    day=27,\n",
    "    hour=16,\n",
    "    minute=26,\n",
    "    second=0,\n",
    "    timezone=2,\n",
    "    latitude=51.44579,\n",
    "    longitude=7.26274,\n",
    ")\n",
    "# solar elevation angle refracted\n",
    "print(result.elevref)\n",
    "# solar declination\n",
    "print(result.declin)\n",
    "# shadow band correction factor\n",
    "print(result.sbcf)"
   ]
  }
 ],
 "metadata": {
  "kernelspec": {
   "display_name": ".venv",
   "language": "python",
   "name": "python3"
  },
  "language_info": {
   "codemirror_mode": {
    "name": "ipython",
    "version": 3
   },
   "file_extension": ".py",
   "mimetype": "text/x-python",
   "name": "python",
   "nbconvert_exporter": "python",
   "pygments_lexer": "ipython3",
   "version": "3.12.4"
  }
 },
 "nbformat": 4,
 "nbformat_minor": 2
}
