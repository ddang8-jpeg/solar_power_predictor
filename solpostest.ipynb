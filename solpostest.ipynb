{
 "cells": [
  {
   "cell_type": "markdown",
   "metadata": {},
   "source": [
    "# Solpostest\n",
    "\n",
    "Test file for the solpos package obtained from: https://github.com/NREL/SolarPILOT/tree/21a1466398ec22db24a5a838e5133da58e347b83"
   ]
  },
  {
   "cell_type": "code",
   "execution_count": 14,
   "metadata": {},
   "outputs": [
    {
     "name": "stdout",
     "output_type": "stream",
     "text": [
      "13.265267372131348\n",
      "-13.235824584960938\n",
      "1.0921502113342285\n",
      "317.8734130859375\n"
     ]
    }
   ],
   "source": [
    "from solpos import solpos\n",
    "import pandas as pd\n",
    "\n",
    "result = solpos(\n",
    "    year=2022,\n",
    "    month=10,\n",
    "    day=28,\n",
    "    hour=16,\n",
    "    minute=26,\n",
    "    second=0,\n",
    "    timezone=2,\n",
    "    latitude=51.44579,\n",
    "    longitude=7.26274,\n",
    ")\n",
    "# solar elevation angle refracted\n",
    "print(result.elevref)\n",
    "# solar declination\n",
    "print(result.declin)\n",
    "# shadow band correction factor\n",
    "print(result.sbcf)\n",
    "# global horizontal solar irradiance\n",
    "print(result.etr)"
   ]
  },
  {
   "cell_type": "code",
   "execution_count": 10,
   "metadata": {},
   "outputs": [
    {
     "data": {
      "text/plain": [
       "{'year': 2022,\n",
       " 'month': 10,\n",
       " 'day': 27,\n",
       " 'hour': 16,\n",
       " 'minute': 26,\n",
       " 'second': 0,\n",
       " 'timezone': 2.0,\n",
       " 'interval': 0,\n",
       " 'latitude': 51.4457893371582,\n",
       " 'longitude': 7.262740135192871,\n",
       " 'amass': 4.193394660949707,\n",
       " 'ampress': 4.193394660949707,\n",
       " 'aspect': 180.0,\n",
       " 'azim': 227.95465087890625,\n",
       " 'cosinc': 0.2346019744873047,\n",
       " 'coszen': 0.2346019744873047,\n",
       " 'dayang': 294.90411376953125,\n",
       " 'declin': -12.900684356689453,\n",
       " 'eclong': 214.1495819091797,\n",
       " 'ecobli': 23.435665130615234,\n",
       " 'ectime': 8335.1015625,\n",
       " 'elevetr': 13.503471374511719,\n",
       " 'elevref': 13.568160057067871,\n",
       " 'eqntim': 16.142154693603516,\n",
       " 'erv': 1.0128366947174072,\n",
       " 'etr': 324.817626953125,\n",
       " 'etrn': 1384.5477294921875,\n",
       " 'etrtilt': 324.817626953125,\n",
       " 'gmst': 16.82879638671875,\n",
       " 'hrang': 47.79827880859375,\n",
       " 'julday': 59880.1015625,\n",
       " 'lmst': 259.6946716308594,\n",
       " 'mnanom': 292.6064453125,\n",
       " 'mnlong': 215.931640625,\n",
       " 'rascen': 211.89639282226562,\n",
       " 'press': 1013.0,\n",
       " 'prime': 1.3153156042099,\n",
       " 'sbcf': 1.093388319015503,\n",
       " 'sbwid': 7.599999904632568,\n",
       " 'sbrad': 31.700000762939453,\n",
       " 'sbsky': 0.03999999910593033,\n",
       " 'solcon': 1367.0,\n",
       " 'ssha': 73.29834747314453,\n",
       " 'sretr': 501.6134948730469,\n",
       " 'ssetr': 1088.000244140625,\n",
       " 'temp': 15.0,\n",
       " 'tilt': 0.0,\n",
       " 'tst': 911.193115234375,\n",
       " 'tstfix': -74.806884765625,\n",
       " 'unprime': 0.760273814201355,\n",
       " 'utime': 14.433333396911621,\n",
       " 'zenetr': 76.49652862548828,\n",
       " 'zenref': 76.43183898925781}"
      ]
     },
     "execution_count": 10,
     "metadata": {},
     "output_type": "execute_result"
    }
   ],
   "source": [
    "result._asdict()"
   ]
  },
  {
   "cell_type": "code",
   "execution_count": 11,
   "metadata": {},
   "outputs": [],
   "source": [
    "data = [result._asdict()]\n",
    "df = pd.DataFrame(data)"
   ]
  },
  {
   "cell_type": "code",
   "execution_count": 12,
   "metadata": {},
   "outputs": [
    {
     "data": {
      "text/html": [
       "<div>\n",
       "<style scoped>\n",
       "    .dataframe tbody tr th:only-of-type {\n",
       "        vertical-align: middle;\n",
       "    }\n",
       "\n",
       "    .dataframe tbody tr th {\n",
       "        vertical-align: top;\n",
       "    }\n",
       "\n",
       "    .dataframe thead th {\n",
       "        text-align: right;\n",
       "    }\n",
       "</style>\n",
       "<table border=\"1\" class=\"dataframe\">\n",
       "  <thead>\n",
       "    <tr style=\"text-align: right;\">\n",
       "      <th></th>\n",
       "      <th>year</th>\n",
       "      <th>month</th>\n",
       "      <th>day</th>\n",
       "      <th>hour</th>\n",
       "      <th>minute</th>\n",
       "      <th>second</th>\n",
       "      <th>timezone</th>\n",
       "      <th>interval</th>\n",
       "      <th>latitude</th>\n",
       "      <th>longitude</th>\n",
       "      <th>...</th>\n",
       "      <th>sretr</th>\n",
       "      <th>ssetr</th>\n",
       "      <th>temp</th>\n",
       "      <th>tilt</th>\n",
       "      <th>tst</th>\n",
       "      <th>tstfix</th>\n",
       "      <th>unprime</th>\n",
       "      <th>utime</th>\n",
       "      <th>zenetr</th>\n",
       "      <th>zenref</th>\n",
       "    </tr>\n",
       "  </thead>\n",
       "  <tbody>\n",
       "    <tr>\n",
       "      <th>0</th>\n",
       "      <td>2022</td>\n",
       "      <td>10</td>\n",
       "      <td>27</td>\n",
       "      <td>16</td>\n",
       "      <td>26</td>\n",
       "      <td>0</td>\n",
       "      <td>2.0</td>\n",
       "      <td>0</td>\n",
       "      <td>51.445789</td>\n",
       "      <td>7.26274</td>\n",
       "      <td>...</td>\n",
       "      <td>501.613495</td>\n",
       "      <td>1088.000244</td>\n",
       "      <td>15.0</td>\n",
       "      <td>0.0</td>\n",
       "      <td>911.193115</td>\n",
       "      <td>-74.806885</td>\n",
       "      <td>0.760274</td>\n",
       "      <td>14.433333</td>\n",
       "      <td>76.496529</td>\n",
       "      <td>76.431839</td>\n",
       "    </tr>\n",
       "  </tbody>\n",
       "</table>\n",
       "<p>1 rows × 53 columns</p>\n",
       "</div>"
      ],
      "text/plain": [
       "   year  month  day  hour  minute  second  timezone  interval   latitude  \\\n",
       "0  2022     10   27    16      26       0       2.0         0  51.445789   \n",
       "\n",
       "   longitude  ...       sretr        ssetr  temp  tilt         tst     tstfix  \\\n",
       "0    7.26274  ...  501.613495  1088.000244  15.0   0.0  911.193115 -74.806885   \n",
       "\n",
       "    unprime      utime     zenetr     zenref  \n",
       "0  0.760274  14.433333  76.496529  76.431839  \n",
       "\n",
       "[1 rows x 53 columns]"
      ]
     },
     "execution_count": 12,
     "metadata": {},
     "output_type": "execute_result"
    }
   ],
   "source": [
    "df"
   ]
  }
 ],
 "metadata": {
  "kernelspec": {
   "display_name": ".venv",
   "language": "python",
   "name": "python3"
  },
  "language_info": {
   "codemirror_mode": {
    "name": "ipython",
    "version": 3
   },
   "file_extension": ".py",
   "mimetype": "text/x-python",
   "name": "python",
   "nbconvert_exporter": "python",
   "pygments_lexer": "ipython3",
   "version": "3.12.4"
  }
 },
 "nbformat": 4,
 "nbformat_minor": 2
}
